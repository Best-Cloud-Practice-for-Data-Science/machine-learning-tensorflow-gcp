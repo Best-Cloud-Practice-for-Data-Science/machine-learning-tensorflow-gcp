{
 "cells": [
  {
   "cell_type": "markdown",
   "metadata": {},
   "source": [
    "# Module 3: Scaling TensorFlow models with CMLE\n",
    "1. Why Cloud Machine Learning Engine?\n",
    "2. Train a Model\n",
    "3. Monitoring and Deploying Training Jobs\n",
    "4. Lab: Exploring and Creating ML Datasets\n",
    "5. Quiz - Cloud MLE"
   ]
  },
  {
   "cell_type": "markdown",
   "metadata": {},
   "source": [
    "##  1. Why Cloud Machine Learning Engine?\n",
    "![ ](img/3-1-01.png)\n",
    "![ ](img/3-1-02.png)\n",
    "![ ](img/3-1-03.png)\n",
    "![ ](img/3-1-04.png)\n",
    "![ ](img/3-1-05.png)\n",
    "![ ](img/3-1-06.png)\n",
    "![ ](img/3-1-07.png)\n",
    "![ ](img/3-1-08.png)\n",
    "![ ](img/3-1-09.png)\n",
    "![ ](img/3-1-10.png)"
   ]
  },
  {
   "cell_type": "markdown",
   "metadata": {},
   "source": [
    "## 2. Train a Model\n",
    "![ ](img/3-2-01.png)\n",
    "![ ](img/3-2-02.png)\n",
    "![ ](img/3-2-03.png)\n",
    "![ ](img/3-2-04.png)\n",
    "![ ](img/3-2-05.png)\n",
    "![ ](img/3-2-06.png)\n",
    "![ ](img/3-2-07.png)\n",
    "![ ](img/3-2-08.png)\n",
    "![ ](img/3-2-09.png)\n",
    "![ ](img/3-2-10.png)\n",
    "![ ](img/3-2-11.png)\n",
    "![ ](img/3-2-12.png)\n",
    "![ ](img/3-2-13.png)\n",
    "![ ](img/3-2-14.png)\n",
    "![ ](img/3-2-15.png)\n",
    "![ ](img/3-2-16.png)\n",
    "![ ](img/3-2-17.png)\n",
    "![ ](img/3-2-18.png)\n",
    "![ ](img/3-2-19.png)\n",
    "![ ](img/3-2-20.png)\n",
    "![ ](img/3-2-21.png)\n",
    "![ ](img/3-2-22.png)"
   ]
  },
  {
   "cell_type": "markdown",
   "metadata": {},
   "source": [
    "## 3. Monitoring and Deploying Training Jobs\n",
    "![ ](img/3-3-01.png)\n",
    "![ ](img/3-3-02.png)\n",
    "![ ](img/3-3-03.png)\n",
    "![ ](img/3-3-04.png)\n",
    "![ ](img/3-3-05.png)\n",
    "![ ](img/3-3-06.png)\n",
    "![ ](img/3-3-07.png)\n",
    "![ ](img/3-3-08.png)"
   ]
  },
  {
   "cell_type": "markdown",
   "metadata": {},
   "source": [
    "## 4. Lab: Exploring and Creating ML Datasets\n",
    "**Overview**<br>\n",
    "This lab is part of a lab series, where you go from exploring a taxicab dataset to training and deploying a distributed model with Cloud ML Engine. In the next course of this specialization, we will work on improving the accuracy of this model using feature engineering.\n",
    "### Launch Cloud Datalab\n",
    "### Clone course repo within your Datalab instance\n",
    "### Scaling TensorFlow with Cloud ML Engine\n",
    "- Step 1<br>\n",
    "In Cloud Datalab, click on the Home icon, and then navigate to notebooks/training-data-analyst > courses > machine_learning > deepdive > 03_tensorflow and open e_cloudmle.ipynb.\n",
    "\n",
    "Note: If the cloud shell used for running the datalab command is closed or interrupted, the connection to your Cloud Datalab VM will terminate. If that happens, you may be able to reconnect using the command ‘datalab connect mydatalabvm' in your new Cloud Shell. Once connected, try the above step again.\n",
    "\n",
    "- Step 2\n",
    "In Datalab, click on Clear | All Cells. Now read the narrative and execute each cell in turn."
   ]
  },
  {
   "cell_type": "markdown",
   "metadata": {},
   "source": [
    "## 5. Quiz - Cloud MLE\n",
    "### Question 1\n",
    "True or False: In the packaging model recommended in this module, the task.py file you create contains the actual ML model in TensorFlow\n",
    "- ( ) True - this is contained in task.py\n",
    "- (x) False - this is actually contained in model.py\n",
    "\n",
    "### Question 2\n",
    "In model.py, what parts of the model are included? (choose all that apply)\n",
    "- [x] Training and evaluation input functions\n",
    "- [x] Feature columns\n",
    "- [x] Feature engineering\n",
    "- [x] Serving input function\n",
    "- [x] Train and evaluate loop\n",
    "- [ ] The API keys for Cloud MLE\n",
    "\n",
    "### Question 3\n",
    "What does the scale-tier represent in CMLE training jobs?\n",
    "- [x] The type of hardware you want your model to run on\n",
    "- [ ] The number of steps your model should scale to\n",
    "- [x] The number of distributed machines your model should use\n",
    "\n",
    "### Question 4\n",
    "True or False: the gcloud command line can used to submit the training job, either locally or to cloud\n",
    "- (x) True\n",
    "- ( ) False - gcloud can only submit jobs to the cloud\n",
    "\n",
    "### Question 5\n",
    "True of False: a model can have multiple different versions that you can choose from to be deployed\n",
    "- (x) True\n",
    "- ( ) False"
   ]
  },
  {
   "cell_type": "code",
   "execution_count": null,
   "metadata": {},
   "outputs": [],
   "source": []
  }
 ],
 "metadata": {
  "kernelspec": {
   "display_name": "Python 2",
   "language": "python",
   "name": "python2"
  },
  "language_info": {
   "codemirror_mode": {
    "name": "ipython",
    "version": 2
   },
   "file_extension": ".py",
   "mimetype": "text/x-python",
   "name": "python",
   "nbconvert_exporter": "python",
   "pygments_lexer": "ipython2",
   "version": "2.7.14"
  },
  "latex_envs": {
   "LaTeX_envs_menu_present": true,
   "autoclose": false,
   "autocomplete": true,
   "bibliofile": "biblio.bib",
   "cite_by": "apalike",
   "current_citInitial": 1,
   "eqLabelWithNumbers": true,
   "eqNumInitial": 1,
   "hotkeys": {
    "equation": "Ctrl-E",
    "itemize": "Ctrl-I"
   },
   "labels_anchors": false,
   "latex_user_defs": false,
   "report_style_numbering": false,
   "user_envs_cfg": false
  }
 },
 "nbformat": 4,
 "nbformat_minor": 2
}
